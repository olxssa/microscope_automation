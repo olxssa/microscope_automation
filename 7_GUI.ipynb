{
 "cells": [
  {
   "metadata": {},
   "cell_type": "markdown",
   "source": [
    "# 7. GUI creation\n",
    "\n",
    "pyqt and pyqtgraph & pymmcore-widgets"
   ],
   "id": "90458b7fa3c15a1d"
  },
  {
   "metadata": {
    "ExecuteTime": {
     "end_time": "2024-08-20T12:22:59.934082Z",
     "start_time": "2024-08-20T12:22:57.553774Z"
    }
   },
   "cell_type": "code",
   "source": [
    "import os\n",
    "import sys\n",
    "import time\n",
    "from useq import MDAEvent, MDASequence, Position\n",
    "from pymmcore_plus.mda import mda_listeners_connected\n",
    "from pymmcore_plus.mda.handlers import ImageSequenceWriter\n",
    "import matplotlib.pyplot as plt\n",
    "import matplotlib.image as img\n",
    "import cv2\n",
    "import numpy as np\n",
    "from scipy.optimize import curve_fit\n",
    "import glob\n",
    "import pandas as pd\n",
    "import m2stitch\n",
    "from os import path"
   ],
   "id": "7c814997059c77e6",
   "outputs": [],
   "execution_count": 1
  },
  {
   "metadata": {
    "ExecuteTime": {
     "end_time": "2024-08-20T12:23:09.842571Z",
     "start_time": "2024-08-20T12:22:59.936083Z"
    }
   },
   "cell_type": "code",
   "source": [
    "# set micro manager directory\n",
    "mm_dir = 'D:\\ProgramFiles\\Micro-Manager-2.0'\n",
    "\n",
    "# load micro manager system configuration\n",
    "import os\n",
    "from pymmcore_plus import CMMCorePlus, Device, DeviceAdapter, ConfigGroup\n",
    "core = CMMCorePlus()\n",
    "#core_plus.setDeviceAdapterSearchPaths([mm_dir])\n",
    "core.loadSystemConfiguration(os.path.join(mm_dir, 'MMConfig_Edge42_SOLA_ASIStage_PixelSize.cfg'))"
   ],
   "id": "2dabe0ecc98f6a",
   "outputs": [],
   "execution_count": 2
  },
  {
   "metadata": {},
   "cell_type": "markdown",
   "source": "## pyqt and pyqtgraph <a id='pyqt_and_pyqtgraph'></a>",
   "id": "2f667b815e2f9d2d"
  },
  {
   "metadata": {
    "ExecuteTime": {
     "end_time": "2024-08-20T11:06:42.944855Z",
     "start_time": "2024-08-20T11:06:42.634730Z"
    }
   },
   "cell_type": "code",
   "source": [
    "from PyQt5.QtCore import QTimer\n",
    "from PyQt5.QtWidgets import QApplication, QLabel, QPushButton, QWidget, QGridLayout\n",
    "from PyQt5.QtGui import QFont\n",
    "import pyqtgraph as pg"
   ],
   "id": "32653abd1feb5b27",
   "outputs": [],
   "execution_count": 3
  },
  {
   "cell_type": "code",
   "id": "initial_id",
   "metadata": {
    "collapsed": true,
    "ExecuteTime": {
     "end_time": "2024-08-19T13:17:59.929975Z",
     "start_time": "2024-08-19T13:17:56.643992Z"
    }
   },
   "source": [
    "### simple plot\n",
    "\n",
    "# start application\n",
    "app = pg.mkQApp()\n",
    "\n",
    "# create window\n",
    "plot_widget = pg.PlotWidget()\n",
    "x = np.linspace(0, 20, 1000)\n",
    "y = np.sin(x)\n",
    "plot_widget.plot(x, y)\n",
    "plot_widget.show()\n",
    "\n",
    "# execute application\n",
    "app.exec()\n"
   ],
   "outputs": [
    {
     "data": {
      "text/plain": [
       "0"
      ]
     },
     "execution_count": 3,
     "metadata": {},
     "output_type": "execute_result"
    }
   ],
   "execution_count": 3
  },
  {
   "metadata": {},
   "cell_type": "code",
   "source": [
    "### moving sine curve ('live data acquisition')\n",
    "\n",
    "class window(QWidget):\n",
    "    def __init__(self):\n",
    "        super().__init__()\n",
    "        self.t = np.linspace(0, 2*np.pi, 1000)\n",
    "        self.num = 0.01\n",
    "        self.graph = pg.PlotWidget(self)\n",
    "        self.grid = QGridLayout()\n",
    "        self.timer = QTimer()\n",
    "        self.grid.addWidget(self.graph, 0, 0, 1, 1)\n",
    "        self.setLayout(self.grid)\n",
    "        self.timer.timeout.connect(self.update)\n",
    "        self.timer.start(1000) # in ms\n",
    "        self.graph.show()\n",
    "        self.setGeometry(0, 0, 500, 200)\n",
    "        self.show()\n",
    "\n",
    "    def update(self):\n",
    "        self.graph.plotItem.clear()\n",
    "        data = np.sin(self.t + self.num)\n",
    "        self.graph.plotItem.plot(self.t, data)\n",
    "        self.num = self.num + 0.5\n",
    "\n",
    "app = QApplication(['auto update'])\n",
    "\n",
    "win = window()\n",
    "\n",
    "app.exec_()"
   ],
   "id": "3bcc4238bbf0c26",
   "outputs": [],
   "execution_count": null
  },
  {
   "metadata": {
    "ExecuteTime": {
     "end_time": "2024-08-20T09:29:18.593651Z",
     "start_time": "2024-08-20T09:29:06.852555Z"
    }
   },
   "cell_type": "code",
   "source": [
    "### display live microscopy images\n",
    "\n",
    "class window(QWidget):\n",
    "    def __init__(self):\n",
    "        super().__init__()\n",
    "        self.graph = pg.PlotWidget(self)\n",
    "        self.grid = QGridLayout()\n",
    "        self.timer = QTimer()\n",
    "        self.grid.addWidget(self.graph)\n",
    "        self.setLayout(self.grid)\n",
    "        self.timer.timeout.connect(self.update)\n",
    "        self.timer.start(1000) # in ms\n",
    "        self.graph.show()\n",
    "        self.show()\n",
    "    \n",
    "    def update(self):\n",
    "        core.setConfig('LED_light', 'on')\n",
    "        self.graph.plotItem.clear()\n",
    "        core.snapImage()\n",
    "        im = core.getImage()\n",
    "        imv = pg.ImageView()\n",
    "        imv.setImage(im)\n",
    "        imv.show()\n",
    "        #imv.close()\n",
    "        core.setConfig('LED_light', 'off')\n",
    "\n",
    "app = QApplication(['auto update'])\n",
    "\n",
    "win = window()\n",
    "\n",
    "app.exec_()"
   ],
   "id": "9dc5336c27d4a786",
   "outputs": [
    {
     "data": {
      "text/plain": [
       "0"
      ]
     },
     "execution_count": 4,
     "metadata": {},
     "output_type": "execute_result"
    }
   ],
   "execution_count": 4
  },
  {
   "metadata": {
    "ExecuteTime": {
     "end_time": "2024-08-20T12:39:42.883235Z",
     "start_time": "2024-08-20T12:36:45.623360Z"
    }
   },
   "cell_type": "code",
   "source": [
    "# PyQt5 tutorial\n",
    "# \n",
    "\n",
    "import PyQt5.QtWidgets as qtw\n",
    "import PyQt5.QtGui as qtg\n",
    "\n",
    "class MainWindow(qtw.QWidget):\n",
    "    def __init__(self):\n",
    "        super().__init__()\n",
    "        \n",
    "        # title\n",
    "        self.setWindowTitle('Microscope Automation')\n",
    "        \n",
    "        # layout\n",
    "        self.setLayout(qtw.QHBoxLayout())\n",
    "        \n",
    "        # label\n",
    "        label = qtw.QLabel('What`s your name?')\n",
    "        # change font size of label\n",
    "        label.setFont(qtg.QFont('SansSerif', 30))\n",
    "        self.layout().addWidget(label)\n",
    "        \n",
    "        # create entry box\n",
    "        entry = qtw.QLineEdit()\n",
    "        entry.setObjectName('name_field')\n",
    "        entry.setText('')\n",
    "        self.layout().addWidget(entry)\n",
    "        # create a button\n",
    "        button = qtw.QPushButton('Press me!')\n",
    "        \n",
    "        \n",
    "        self.show()\n",
    "\n",
    "app = qtw.QApplication([])\n",
    "mw = MainWindow()\n",
    "\n",
    "app.exec_()"
   ],
   "id": "a8a7aabfc93b31e9",
   "outputs": [
    {
     "data": {
      "text/plain": [
       "0"
      ]
     },
     "execution_count": 1,
     "metadata": {},
     "output_type": "execute_result"
    }
   ],
   "execution_count": 1
  },
  {
   "metadata": {},
   "cell_type": "markdown",
   "source": "### pymmcore-widgets",
   "id": "3ae4726aff72bf7a"
  },
  {
   "metadata": {
    "ExecuteTime": {
     "end_time": "2024-08-20T12:23:22.624711Z",
     "start_time": "2024-08-20T12:23:09.843570Z"
    }
   },
   "cell_type": "code",
   "source": [
    "# some widgets\n",
    "\n",
    "from qtpy.QtWidgets import QApplication\n",
    "from pymmcore_widgets import PropertyBrowser, LiveButton, ExposureWidget, ImagePreview\n",
    "app = QApplication([])\n",
    "\n",
    "# create a PropertyBrowser widget. By default, this widget will use the active\n",
    "# Micro-Manager core instance.\n",
    "\n",
    "pb_widget = PropertyBrowser()\n",
    "pb_widget.show()\n",
    "\n",
    "live_btn = LiveButton()\n",
    "live_btn.show()\n",
    "\n",
    "exp_wdg = ExposureWidget()\n",
    "exp_wdg.show()\n",
    "\n",
    "img_wdg = ImagePreview()\n",
    "img_wdg.show()\n",
    "\n",
    "app.exec_()"
   ],
   "id": "f3ee3b34a7de6852",
   "outputs": [
    {
     "data": {
      "text/plain": [
       "0"
      ]
     },
     "execution_count": 3,
     "metadata": {},
     "output_type": "execute_result"
    }
   ],
   "execution_count": 3
  },
  {
   "metadata": {
    "ExecuteTime": {
     "end_time": "2024-08-20T13:39:44.257250Z",
     "start_time": "2024-08-20T13:39:13.819488Z"
    }
   },
   "cell_type": "code",
   "source": [
    "# preview widget\n",
    "\n",
    "import os\n",
    "mm_dir = 'D:\\ProgramFiles\\Micro-Manager-2.0'\n",
    "from pymmcore_plus import CMMCorePlus\n",
    "\n",
    "from qtpy.QtWidgets import QApplication, QGroupBox, QHBoxLayout, QVBoxLayout, QWidget\n",
    "\n",
    "from pymmcore_widgets import (\n",
    "    ChannelWidget,\n",
    "    ExposureWidget,\n",
    "    ImagePreview,\n",
    "    LiveButton,\n",
    "    SnapButton,\n",
    "    ChannelGroupWidget,\n",
    ")\n",
    "\n",
    "class ImageFrame(QWidget):\n",
    "    \"\"\"An example widget with a snap/live button and an image preview.\"\"\"\n",
    "\n",
    "    def __init__(self):\n",
    "        super().__init__()\n",
    "\n",
    "        self.preview = ImagePreview()\n",
    "        self.snap_button = SnapButton()\n",
    "        self.live_button = LiveButton()\n",
    "        self.exposure = ExposureWidget()\n",
    "        self.channel = ChannelWidget()\n",
    "        self.channel_group = ChannelGroupWidget()\n",
    "\n",
    "        self.setLayout(QVBoxLayout())\n",
    "\n",
    "        buttons = QGroupBox()\n",
    "        buttons.setLayout(QHBoxLayout())\n",
    "        buttons.layout().addWidget(self.snap_button)\n",
    "        buttons.layout().addWidget(self.live_button)\n",
    "\n",
    "        ch_exp = QWidget()\n",
    "        layout = QHBoxLayout()\n",
    "        layout.setContentsMargins(0, 0, 0, 0)\n",
    "        ch_exp.setLayout(layout)\n",
    "\n",
    "        ch = QGroupBox()\n",
    "        ch.setTitle(\"Channel\")\n",
    "        ch.setLayout(QHBoxLayout())\n",
    "        ch.layout().setContentsMargins(0, 0, 0, 0)\n",
    "        ch.layout().addWidget(self.channel)\n",
    "        layout.addWidget(ch)\n",
    "\n",
    "        ch_gr = QGroupBox()\n",
    "        ch_gr.setTitle(\"ChannelGroup\")\n",
    "        ch_gr.setLayout(QHBoxLayout())\n",
    "        ch_gr.layout().setContentsMargins(0, 0, 0, 0)\n",
    "        ch_gr.layout().addWidget(self.channel_group)\n",
    "        layout.addWidget(ch_gr)\n",
    "\n",
    "        exp = QGroupBox()\n",
    "        exp.setTitle(\"Exposure\")\n",
    "        exp.setLayout(QHBoxLayout())\n",
    "        exp.layout().setContentsMargins(0, 0, 0, 0)\n",
    "        exp.layout().addWidget(self.exposure)\n",
    "        layout.addWidget(exp)\n",
    "\n",
    "        self.layout().addWidget(self.preview)\n",
    "        self.layout().addWidget(ch_exp)\n",
    "        self.layout().addWidget(buttons)\n",
    "\n",
    "\n",
    "if __name__ == \"__main__\":\n",
    "    core = CMMCorePlus()\n",
    "    core.setDeviceAdapterSearchPaths([mm_dir])\n",
    "    core.loadSystemConfiguration(os.path.join(mm_dir, 'MMConfig_Edge42_SOLA_ASIStage_PixelSize.cfg'))\n",
    "    #core.loadSystemConfiguration()\n",
    "    app = QApplication([])\n",
    "    frame = ImageFrame()\n",
    "    frame.show()\n",
    "    #core.snap()\n",
    "    app.exec_()"
   ],
   "id": "f7b0316e0407b6a5",
   "outputs": [
    {
     "name": "stderr",
     "output_type": "stream",
     "text": [
      "C:\\Users\\Admin\\.conda\\envs\\microscope\\lib\\site-packages\\vispy\\visuals\\_scalable_textures.py:296: RuntimeWarning: overflow encountered in scalar subtract\n",
      "  clim_min = (clim_min - range_min) / (range_max - range_min)\n",
      "C:\\Users\\Admin\\.conda\\envs\\microscope\\lib\\site-packages\\vispy\\visuals\\_scalable_textures.py:296: RuntimeWarning: overflow encountered in scalar subtract\n",
      "  clim_min = (clim_min - range_min) / (range_max - range_min)\n",
      "C:\\Users\\Admin\\.conda\\envs\\microscope\\lib\\site-packages\\vispy\\visuals\\_scalable_textures.py:296: RuntimeWarning: overflow encountered in scalar subtract\n",
      "  clim_min = (clim_min - range_min) / (range_max - range_min)\n",
      "C:\\Users\\Admin\\.conda\\envs\\microscope\\lib\\site-packages\\vispy\\visuals\\_scalable_textures.py:296: RuntimeWarning: overflow encountered in scalar subtract\n",
      "  clim_min = (clim_min - range_min) / (range_max - range_min)\n",
      "C:\\Users\\Admin\\.conda\\envs\\microscope\\lib\\site-packages\\vispy\\visuals\\_scalable_textures.py:296: RuntimeWarning: overflow encountered in scalar subtract\n",
      "  clim_min = (clim_min - range_min) / (range_max - range_min)\n",
      "C:\\Users\\Admin\\.conda\\envs\\microscope\\lib\\site-packages\\vispy\\visuals\\_scalable_textures.py:296: RuntimeWarning: overflow encountered in scalar subtract\n",
      "  clim_min = (clim_min - range_min) / (range_max - range_min)\n",
      "C:\\Users\\Admin\\.conda\\envs\\microscope\\lib\\site-packages\\vispy\\visuals\\_scalable_textures.py:296: RuntimeWarning: overflow encountered in scalar subtract\n",
      "  clim_min = (clim_min - range_min) / (range_max - range_min)\n",
      "C:\\Users\\Admin\\.conda\\envs\\microscope\\lib\\site-packages\\vispy\\visuals\\_scalable_textures.py:296: RuntimeWarning: overflow encountered in scalar subtract\n",
      "  clim_min = (clim_min - range_min) / (range_max - range_min)\n",
      "C:\\Users\\Admin\\.conda\\envs\\microscope\\lib\\site-packages\\vispy\\visuals\\_scalable_textures.py:296: RuntimeWarning: overflow encountered in scalar subtract\n",
      "  clim_min = (clim_min - range_min) / (range_max - range_min)\n",
      "C:\\Users\\Admin\\.conda\\envs\\microscope\\lib\\site-packages\\vispy\\visuals\\_scalable_textures.py:296: RuntimeWarning: overflow encountered in scalar subtract\n",
      "  clim_min = (clim_min - range_min) / (range_max - range_min)\n",
      "C:\\Users\\Admin\\.conda\\envs\\microscope\\lib\\site-packages\\vispy\\visuals\\_scalable_textures.py:296: RuntimeWarning: overflow encountered in scalar subtract\n",
      "  clim_min = (clim_min - range_min) / (range_max - range_min)\n",
      "C:\\Users\\Admin\\.conda\\envs\\microscope\\lib\\site-packages\\vispy\\visuals\\_scalable_textures.py:296: RuntimeWarning: overflow encountered in scalar subtract\n",
      "  clim_min = (clim_min - range_min) / (range_max - range_min)\n"
     ]
    }
   ],
   "execution_count": 1
  },
  {
   "metadata": {},
   "cell_type": "markdown",
   "source": "![Preview Window](preview_window.png \"Title\")",
   "id": "f7f5e3c91ee2576a"
  },
  {
   "metadata": {
    "ExecuteTime": {
     "end_time": "2024-08-20T13:40:13.712172Z",
     "start_time": "2024-08-20T13:40:13.674797Z"
    }
   },
   "cell_type": "code",
   "source": "core.setConfig('LED_light', 'off')",
   "id": "3bce533febdaa06b",
   "outputs": [],
   "execution_count": 2
  },
  {
   "metadata": {
    "ExecuteTime": {
     "end_time": "2024-08-20T15:54:34.707755Z",
     "start_time": "2024-08-20T15:51:06.042597Z"
    }
   },
   "cell_type": "code",
   "source": [
    "# multiple widgets in main window\n",
    "\n",
    "import os\n",
    "mm_dir = 'D:\\ProgramFiles\\Micro-Manager-2.0'\n",
    "from pymmcore_plus import CMMCorePlus\n",
    "import PyQt5.QtWidgets as qtw\n",
    "from qtpy.QtWidgets import QStackedWidget, QMainWindow, QAction, QApplication, QGroupBox, QWidget\n",
    "import pymmcore_widgets as pycw\n",
    "\n",
    "class MainWindow(qtw.QWidget):\n",
    "    def __init__(self):\n",
    "        super().__init__()\n",
    "        \n",
    "        self.setLayout(qtw.QHBoxLayout())\n",
    "        \n",
    "        snap_button = pycw.SnapButton()\n",
    "        live_button = pycw.LiveButton()\n",
    "        image_preview = pycw.ImagePreview()\n",
    "        channel_group = pycw.ChannelGroupWidget()\n",
    "        channel = pycw.ChannelWidget()\n",
    "        \n",
    "        buttons = QGroupBox()\n",
    "        buttons.setLayout(qtw.QHBoxLayout())\n",
    "        buttons.layout().addWidget(image_preview)\n",
    "        buttons.layout().addWidget(snap_button)\n",
    "        buttons.layout().addWidget(live_button)\n",
    "        buttons.layout().addWidget(channel_group)\n",
    "        buttons.layout().addWidget(channel)\n",
    "        \n",
    "        stage_widget = pycw.StageWidget('XYStage')\n",
    "        \n",
    "        stage = QGroupBox()\n",
    "        stage.setLayout(qtw.QHBoxLayout())\n",
    "        stage.layout().addWidget(stage_widget)\n",
    "        \n",
    "        self.layout().addWidget(buttons)\n",
    "        self.layout().addWidget(stage)\n",
    "        \n",
    "        self.show()\n",
    "\n",
    "if __name__ == \"__main__\":\n",
    "    core = CMMCorePlus()\n",
    "    core.setDeviceAdapterSearchPaths([mm_dir])\n",
    "    core.loadSystemConfiguration(os.path.join(mm_dir, 'MMConfig_Edge42_SOLA_ASIStage_PixelSize.cfg'))\n",
    "    app = qtw.QApplication([])\n",
    "    mw = MainWindow()\n",
    "    app.exec_()"
   ],
   "id": "8319118317161f70",
   "outputs": [
    {
     "name": "stderr",
     "output_type": "stream",
     "text": [
      "C:\\Users\\Admin\\.conda\\envs\\microscope\\lib\\site-packages\\vispy\\visuals\\_scalable_textures.py:296: RuntimeWarning: overflow encountered in scalar subtract\n",
      "  clim_min = (clim_min - range_min) / (range_max - range_min)\n",
      "C:\\Users\\Admin\\.conda\\envs\\microscope\\lib\\site-packages\\vispy\\visuals\\_scalable_textures.py:296: RuntimeWarning: overflow encountered in scalar subtract\n",
      "  clim_min = (clim_min - range_min) / (range_max - range_min)\n",
      "C:\\Users\\Admin\\.conda\\envs\\microscope\\lib\\site-packages\\vispy\\visuals\\_scalable_textures.py:296: RuntimeWarning: overflow encountered in scalar subtract\n",
      "  clim_min = (clim_min - range_min) / (range_max - range_min)\n",
      "C:\\Users\\Admin\\.conda\\envs\\microscope\\lib\\site-packages\\vispy\\visuals\\_scalable_textures.py:296: RuntimeWarning: overflow encountered in scalar subtract\n",
      "  clim_min = (clim_min - range_min) / (range_max - range_min)\n",
      "C:\\Users\\Admin\\.conda\\envs\\microscope\\lib\\site-packages\\vispy\\visuals\\_scalable_textures.py:296: RuntimeWarning: overflow encountered in scalar subtract\n",
      "  clim_min = (clim_min - range_min) / (range_max - range_min)\n",
      "C:\\Users\\Admin\\.conda\\envs\\microscope\\lib\\site-packages\\vispy\\visuals\\_scalable_textures.py:296: RuntimeWarning: overflow encountered in scalar subtract\n",
      "  clim_min = (clim_min - range_min) / (range_max - range_min)\n",
      "C:\\Users\\Admin\\.conda\\envs\\microscope\\lib\\site-packages\\vispy\\visuals\\_scalable_textures.py:296: RuntimeWarning: overflow encountered in scalar subtract\n",
      "  clim_min = (clim_min - range_min) / (range_max - range_min)\n",
      "C:\\Users\\Admin\\.conda\\envs\\microscope\\lib\\site-packages\\vispy\\visuals\\_scalable_textures.py:296: RuntimeWarning: overflow encountered in scalar subtract\n",
      "  clim_min = (clim_min - range_min) / (range_max - range_min)\n",
      "C:\\Users\\Admin\\.conda\\envs\\microscope\\lib\\site-packages\\vispy\\visuals\\_scalable_textures.py:296: RuntimeWarning: overflow encountered in scalar subtract\n",
      "  clim_min = (clim_min - range_min) / (range_max - range_min)\n",
      "C:\\Users\\Admin\\.conda\\envs\\microscope\\lib\\site-packages\\vispy\\visuals\\_scalable_textures.py:296: RuntimeWarning: overflow encountered in scalar subtract\n",
      "  clim_min = (clim_min - range_min) / (range_max - range_min)\n",
      "C:\\Users\\Admin\\.conda\\envs\\microscope\\lib\\site-packages\\vispy\\visuals\\_scalable_textures.py:296: RuntimeWarning: overflow encountered in scalar subtract\n",
      "  clim_min = (clim_min - range_min) / (range_max - range_min)\n",
      "C:\\Users\\Admin\\.conda\\envs\\microscope\\lib\\site-packages\\vispy\\visuals\\_scalable_textures.py:296: RuntimeWarning: overflow encountered in scalar subtract\n",
      "  clim_min = (clim_min - range_min) / (range_max - range_min)\n",
      "C:\\Users\\Admin\\.conda\\envs\\microscope\\lib\\site-packages\\vispy\\visuals\\_scalable_textures.py:296: RuntimeWarning: overflow encountered in scalar subtract\n",
      "  clim_min = (clim_min - range_min) / (range_max - range_min)\n",
      "C:\\Users\\Admin\\.conda\\envs\\microscope\\lib\\site-packages\\vispy\\visuals\\_scalable_textures.py:296: RuntimeWarning: overflow encountered in scalar subtract\n",
      "  clim_min = (clim_min - range_min) / (range_max - range_min)\n",
      "C:\\Users\\Admin\\.conda\\envs\\microscope\\lib\\site-packages\\vispy\\visuals\\_scalable_textures.py:296: RuntimeWarning: overflow encountered in scalar subtract\n",
      "  clim_min = (clim_min - range_min) / (range_max - range_min)\n",
      "C:\\Users\\Admin\\.conda\\envs\\microscope\\lib\\site-packages\\vispy\\visuals\\_scalable_textures.py:296: RuntimeWarning: overflow encountered in scalar subtract\n",
      "  clim_min = (clim_min - range_min) / (range_max - range_min)\n",
      "C:\\Users\\Admin\\.conda\\envs\\microscope\\lib\\site-packages\\vispy\\visuals\\_scalable_textures.py:296: RuntimeWarning: overflow encountered in scalar subtract\n",
      "  clim_min = (clim_min - range_min) / (range_max - range_min)\n",
      "C:\\Users\\Admin\\.conda\\envs\\microscope\\lib\\site-packages\\vispy\\visuals\\_scalable_textures.py:296: RuntimeWarning: overflow encountered in scalar subtract\n",
      "  clim_min = (clim_min - range_min) / (range_max - range_min)\n",
      "C:\\Users\\Admin\\.conda\\envs\\microscope\\lib\\site-packages\\vispy\\visuals\\_scalable_textures.py:296: RuntimeWarning: overflow encountered in scalar subtract\n",
      "  clim_min = (clim_min - range_min) / (range_max - range_min)\n",
      "C:\\Users\\Admin\\.conda\\envs\\microscope\\lib\\site-packages\\vispy\\visuals\\_scalable_textures.py:296: RuntimeWarning: overflow encountered in scalar subtract\n",
      "  clim_min = (clim_min - range_min) / (range_max - range_min)\n",
      "C:\\Users\\Admin\\.conda\\envs\\microscope\\lib\\site-packages\\vispy\\visuals\\_scalable_textures.py:296: RuntimeWarning: overflow encountered in scalar subtract\n",
      "  clim_min = (clim_min - range_min) / (range_max - range_min)\n",
      "C:\\Users\\Admin\\.conda\\envs\\microscope\\lib\\site-packages\\vispy\\visuals\\_scalable_textures.py:296: RuntimeWarning: overflow encountered in scalar subtract\n",
      "  clim_min = (clim_min - range_min) / (range_max - range_min)\n",
      "C:\\Users\\Admin\\.conda\\envs\\microscope\\lib\\site-packages\\vispy\\visuals\\_scalable_textures.py:296: RuntimeWarning: overflow encountered in scalar subtract\n",
      "  clim_min = (clim_min - range_min) / (range_max - range_min)\n",
      "C:\\Users\\Admin\\.conda\\envs\\microscope\\lib\\site-packages\\vispy\\visuals\\_scalable_textures.py:296: RuntimeWarning: overflow encountered in scalar subtract\n",
      "  clim_min = (clim_min - range_min) / (range_max - range_min)\n",
      "C:\\Users\\Admin\\.conda\\envs\\microscope\\lib\\site-packages\\vispy\\visuals\\_scalable_textures.py:296: RuntimeWarning: overflow encountered in scalar subtract\n",
      "  clim_min = (clim_min - range_min) / (range_max - range_min)\n",
      "C:\\Users\\Admin\\.conda\\envs\\microscope\\lib\\site-packages\\vispy\\visuals\\_scalable_textures.py:296: RuntimeWarning: overflow encountered in scalar subtract\n",
      "  clim_min = (clim_min - range_min) / (range_max - range_min)\n",
      "C:\\Users\\Admin\\.conda\\envs\\microscope\\lib\\site-packages\\vispy\\visuals\\_scalable_textures.py:296: RuntimeWarning: overflow encountered in scalar subtract\n",
      "  clim_min = (clim_min - range_min) / (range_max - range_min)\n",
      "C:\\Users\\Admin\\.conda\\envs\\microscope\\lib\\site-packages\\vispy\\visuals\\_scalable_textures.py:296: RuntimeWarning: overflow encountered in scalar subtract\n",
      "  clim_min = (clim_min - range_min) / (range_max - range_min)\n",
      "C:\\Users\\Admin\\.conda\\envs\\microscope\\lib\\site-packages\\vispy\\visuals\\_scalable_textures.py:296: RuntimeWarning: overflow encountered in scalar subtract\n",
      "  clim_min = (clim_min - range_min) / (range_max - range_min)\n",
      "C:\\Users\\Admin\\.conda\\envs\\microscope\\lib\\site-packages\\vispy\\visuals\\_scalable_textures.py:296: RuntimeWarning: overflow encountered in scalar subtract\n",
      "  clim_min = (clim_min - range_min) / (range_max - range_min)\n",
      "C:\\Users\\Admin\\.conda\\envs\\microscope\\lib\\site-packages\\vispy\\visuals\\_scalable_textures.py:296: RuntimeWarning: overflow encountered in scalar subtract\n",
      "  clim_min = (clim_min - range_min) / (range_max - range_min)\n",
      "C:\\Users\\Admin\\.conda\\envs\\microscope\\lib\\site-packages\\vispy\\visuals\\_scalable_textures.py:296: RuntimeWarning: overflow encountered in scalar subtract\n",
      "  clim_min = (clim_min - range_min) / (range_max - range_min)\n",
      "C:\\Users\\Admin\\.conda\\envs\\microscope\\lib\\site-packages\\vispy\\visuals\\_scalable_textures.py:296: RuntimeWarning: overflow encountered in scalar subtract\n",
      "  clim_min = (clim_min - range_min) / (range_max - range_min)\n",
      "C:\\Users\\Admin\\.conda\\envs\\microscope\\lib\\site-packages\\vispy\\visuals\\_scalable_textures.py:296: RuntimeWarning: overflow encountered in scalar subtract\n",
      "  clim_min = (clim_min - range_min) / (range_max - range_min)\n",
      "C:\\Users\\Admin\\.conda\\envs\\microscope\\lib\\site-packages\\vispy\\visuals\\_scalable_textures.py:296: RuntimeWarning: overflow encountered in scalar subtract\n",
      "  clim_min = (clim_min - range_min) / (range_max - range_min)\n",
      "C:\\Users\\Admin\\.conda\\envs\\microscope\\lib\\site-packages\\vispy\\visuals\\_scalable_textures.py:296: RuntimeWarning: overflow encountered in scalar subtract\n",
      "  clim_min = (clim_min - range_min) / (range_max - range_min)\n",
      "C:\\Users\\Admin\\.conda\\envs\\microscope\\lib\\site-packages\\vispy\\visuals\\_scalable_textures.py:296: RuntimeWarning: overflow encountered in scalar subtract\n",
      "  clim_min = (clim_min - range_min) / (range_max - range_min)\n",
      "C:\\Users\\Admin\\.conda\\envs\\microscope\\lib\\site-packages\\vispy\\visuals\\_scalable_textures.py:296: RuntimeWarning: overflow encountered in scalar subtract\n",
      "  clim_min = (clim_min - range_min) / (range_max - range_min)\n",
      "C:\\Users\\Admin\\.conda\\envs\\microscope\\lib\\site-packages\\vispy\\visuals\\_scalable_textures.py:296: RuntimeWarning: overflow encountered in scalar subtract\n",
      "  clim_min = (clim_min - range_min) / (range_max - range_min)\n",
      "C:\\Users\\Admin\\.conda\\envs\\microscope\\lib\\site-packages\\vispy\\visuals\\_scalable_textures.py:296: RuntimeWarning: overflow encountered in scalar subtract\n",
      "  clim_min = (clim_min - range_min) / (range_max - range_min)\n",
      "C:\\Users\\Admin\\.conda\\envs\\microscope\\lib\\site-packages\\vispy\\visuals\\_scalable_textures.py:296: RuntimeWarning: overflow encountered in scalar subtract\n",
      "  clim_min = (clim_min - range_min) / (range_max - range_min)\n",
      "C:\\Users\\Admin\\.conda\\envs\\microscope\\lib\\site-packages\\vispy\\visuals\\_scalable_textures.py:296: RuntimeWarning: overflow encountered in scalar subtract\n",
      "  clim_min = (clim_min - range_min) / (range_max - range_min)\n",
      "C:\\Users\\Admin\\.conda\\envs\\microscope\\lib\\site-packages\\vispy\\visuals\\_scalable_textures.py:296: RuntimeWarning: overflow encountered in scalar subtract\n",
      "  clim_min = (clim_min - range_min) / (range_max - range_min)\n",
      "C:\\Users\\Admin\\.conda\\envs\\microscope\\lib\\site-packages\\vispy\\visuals\\_scalable_textures.py:296: RuntimeWarning: overflow encountered in scalar subtract\n",
      "  clim_min = (clim_min - range_min) / (range_max - range_min)\n",
      "C:\\Users\\Admin\\.conda\\envs\\microscope\\lib\\site-packages\\vispy\\visuals\\_scalable_textures.py:296: RuntimeWarning: overflow encountered in scalar subtract\n",
      "  clim_min = (clim_min - range_min) / (range_max - range_min)\n",
      "C:\\Users\\Admin\\.conda\\envs\\microscope\\lib\\site-packages\\vispy\\visuals\\_scalable_textures.py:296: RuntimeWarning: overflow encountered in scalar subtract\n",
      "  clim_min = (clim_min - range_min) / (range_max - range_min)\n",
      "C:\\Users\\Admin\\.conda\\envs\\microscope\\lib\\site-packages\\vispy\\visuals\\_scalable_textures.py:296: RuntimeWarning: overflow encountered in scalar subtract\n",
      "  clim_min = (clim_min - range_min) / (range_max - range_min)\n"
     ]
    }
   ],
   "execution_count": 1
  },
  {
   "metadata": {},
   "cell_type": "markdown",
   "source": "![Preview Window + stage](preview_window_stage.png)",
   "id": "c2ebcbacd151d891"
  },
  {
   "metadata": {
    "ExecuteTime": {
     "end_time": "2024-08-20T15:55:40.192056Z",
     "start_time": "2024-08-20T15:55:40.152051Z"
    }
   },
   "cell_type": "code",
   "source": "core.setConfig('LED_light', 'off')",
   "id": "97244280f9c9f6b9",
   "outputs": [],
   "execution_count": 2
  },
  {
   "metadata": {
    "ExecuteTime": {
     "end_time": "2024-08-20T13:57:21.116187Z",
     "start_time": "2024-08-20T13:57:09.311479Z"
    }
   },
   "cell_type": "code",
   "source": [
    "import PyQt5.QtWidgets as qtw\n",
    "from qtpy.QtWidgets import QApplication, QGroupBox, QHBoxLayout, QVBoxLayout, QWidget\n",
    "import pymmcore_widgets as pycw\n",
    "import PyQt5.QtGui as qtg\n",
    "import os\n",
    "mm_dir = 'D:\\ProgramFiles\\Micro-Manager-2.0'\n",
    "from pymmcore_plus import CMMCorePlus\n",
    "\n",
    "class MainWindow(qtw.QWidget):\n",
    "    def __init__(self):\n",
    "        super().__init__()\n",
    "        \n",
    "        # image preview\n",
    "        preview_window = QWidget()\n",
    "        layout = QHBoxLayout()\n",
    "        layout.setContentsMargins(0, 0, 0, 0)\n",
    "        preview_window.setLayout(layout)\n",
    "        \n",
    "        self.preview = pycw.ImagePreview()\n",
    "        self.snap_button = pycw.SnapButton()\n",
    "        self.live_button = pycw.LiveButton()\n",
    "        self.exposure = pycw.ExposureWidget()\n",
    "        self.channel = pycw.ChannelWidget()\n",
    "        self.channel_group = pycw.ChannelGroupWidget()\n",
    "\n",
    "        self.setLayout(QVBoxLayout())\n",
    "\n",
    "        buttons = QGroupBox()\n",
    "        buttons.setLayout(QHBoxLayout())\n",
    "        buttons.layout().addWidget(self.snap_button)\n",
    "        buttons.layout().addWidget(self.live_button)\n",
    "\n",
    "        ch_exp = QWidget()\n",
    "        layout = QHBoxLayout()\n",
    "        layout.setContentsMargins(0, 0, 0, 0)\n",
    "        ch_exp.setLayout(layout)\n",
    "\n",
    "        ch = QGroupBox()\n",
    "        ch.setTitle(\"Channel\")\n",
    "        ch.setLayout(QHBoxLayout())\n",
    "        ch.layout().setContentsMargins(0, 0, 0, 0)\n",
    "        ch.layout().addWidget(self.channel)\n",
    "        layout.addWidget(ch)\n",
    "\n",
    "        ch_gr = QGroupBox()\n",
    "        ch_gr.setTitle(\"ChannelGroup\")\n",
    "        ch_gr.setLayout(QHBoxLayout())\n",
    "        ch_gr.layout().setContentsMargins(0, 0, 0, 0)\n",
    "        ch_gr.layout().addWidget(self.channel_group)\n",
    "        layout.addWidget(ch_gr)\n",
    "\n",
    "        exp = QGroupBox()\n",
    "        exp.setTitle(\"Exposure\")\n",
    "        exp.setLayout(QHBoxLayout())\n",
    "        exp.layout().setContentsMargins(0, 0, 0, 0)\n",
    "        exp.layout().addWidget(self.exposure)\n",
    "        layout.addWidget(exp)\n",
    "\n",
    "        self.layout().addWidget(self.preview)\n",
    "        self.layout().addWidget(ch_exp)\n",
    "        self.layout().addWidget(buttons)\n",
    "        \n",
    "        self.preview_window().addWidget(layout)\n",
    "    \n",
    "        self.show()\n",
    "\n",
    "if __name__ == \"__main__\":\n",
    "    core = CMMCorePlus()\n",
    "    core.setDeviceAdapterSearchPaths([mm_dir])\n",
    "    core.loadSystemConfiguration(os.path.join(mm_dir, 'MMConfig_Edge42_SOLA_ASIStage_PixelSize.cfg'))\n",
    "    app = qtw.QApplication([])\n",
    "    mw = MainWindow()\n",
    "\n",
    "    app.exec_()"
   ],
   "id": "11b7932bf2d0ea88",
   "outputs": [
    {
     "ename": "TypeError",
     "evalue": "'QGroupBox' object is not callable",
     "output_type": "error",
     "traceback": [
      "\u001B[1;31m---------------------------------------------------------------------------\u001B[0m",
      "\u001B[1;31mTypeError\u001B[0m                                 Traceback (most recent call last)",
      "Cell \u001B[1;32mIn[1], line 69\u001B[0m\n\u001B[0;32m     67\u001B[0m core\u001B[38;5;241m.\u001B[39mloadSystemConfiguration(os\u001B[38;5;241m.\u001B[39mpath\u001B[38;5;241m.\u001B[39mjoin(mm_dir, \u001B[38;5;124m'\u001B[39m\u001B[38;5;124mMMConfig_Edge42_SOLA_ASIStage_PixelSize.cfg\u001B[39m\u001B[38;5;124m'\u001B[39m))\n\u001B[0;32m     68\u001B[0m app \u001B[38;5;241m=\u001B[39m qtw\u001B[38;5;241m.\u001B[39mQApplication([])\n\u001B[1;32m---> 69\u001B[0m mw \u001B[38;5;241m=\u001B[39m \u001B[43mMainWindow\u001B[49m\u001B[43m(\u001B[49m\u001B[43m)\u001B[49m\n\u001B[0;32m     71\u001B[0m app\u001B[38;5;241m.\u001B[39mexec_()\n",
      "Cell \u001B[1;32mIn[1], line 60\u001B[0m, in \u001B[0;36mMainWindow.__init__\u001B[1;34m(self)\u001B[0m\n\u001B[0;32m     57\u001B[0m \u001B[38;5;28mself\u001B[39m\u001B[38;5;241m.\u001B[39mlayout()\u001B[38;5;241m.\u001B[39maddWidget(ch_exp)\n\u001B[0;32m     58\u001B[0m \u001B[38;5;28mself\u001B[39m\u001B[38;5;241m.\u001B[39mlayout()\u001B[38;5;241m.\u001B[39maddWidget(buttons)\n\u001B[1;32m---> 60\u001B[0m \u001B[38;5;28;43mself\u001B[39;49m\u001B[38;5;241;43m.\u001B[39;49m\u001B[43mpreview_window\u001B[49m\u001B[43m(\u001B[49m\u001B[43m)\u001B[49m\u001B[38;5;241m.\u001B[39maddWidget(layout)\n\u001B[0;32m     62\u001B[0m \u001B[38;5;28mself\u001B[39m\u001B[38;5;241m.\u001B[39mshow()\n",
      "\u001B[1;31mTypeError\u001B[0m: 'QGroupBox' object is not callable"
     ]
    }
   ],
   "execution_count": 1
  }
 ],
 "metadata": {
  "kernelspec": {
   "display_name": "Python 3",
   "language": "python",
   "name": "python3"
  },
  "language_info": {
   "codemirror_mode": {
    "name": "ipython",
    "version": 2
   },
   "file_extension": ".py",
   "mimetype": "text/x-python",
   "name": "python",
   "nbconvert_exporter": "python",
   "pygments_lexer": "ipython2",
   "version": "2.7.6"
  }
 },
 "nbformat": 4,
 "nbformat_minor": 5
}
