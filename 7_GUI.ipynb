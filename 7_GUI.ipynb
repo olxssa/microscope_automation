{
 "cells": [
  {
   "metadata": {},
   "cell_type": "markdown",
   "source": [
    "# 7. GUI creation\n",
    "\n",
    "Two options: <br/>\n",
    "* [pyqt and pyqtgraph](#pyqt_and_pyqtgraph) <br/>\n",
    "* [napari](#napari)"
   ],
   "id": "90458b7fa3c15a1d"
  },
  {
   "metadata": {
    "ExecuteTime": {
     "end_time": "2024-08-19T13:49:57.365316Z",
     "start_time": "2024-08-19T13:49:54.322363Z"
    }
   },
   "cell_type": "code",
   "source": [
    "import os\n",
    "import time\n",
    "from useq import MDAEvent, MDASequence, Position\n",
    "from pymmcore_plus.mda import mda_listeners_connected\n",
    "from pymmcore_plus.mda.handlers import ImageSequenceWriter\n",
    "import matplotlib.pyplot as plt\n",
    "import matplotlib.image as img\n",
    "import cv2\n",
    "import numpy as np\n",
    "from scipy.optimize import curve_fit\n",
    "import glob\n",
    "import pandas as pd\n",
    "import m2stitch\n",
    "from os import path"
   ],
   "id": "7c814997059c77e6",
   "outputs": [],
   "execution_count": 1
  },
  {
   "metadata": {
    "ExecuteTime": {
     "end_time": "2024-08-19T13:50:05.410146Z",
     "start_time": "2024-08-19T13:49:57.367361Z"
    }
   },
   "cell_type": "code",
   "source": [
    "# set micro manager directory\n",
    "mm_dir = 'D:\\ProgramFiles\\Micro-Manager-2.0'\n",
    "\n",
    "# load micro manager system configuration\n",
    "import os\n",
    "from pymmcore_plus import CMMCorePlus, Device, DeviceAdapter, ConfigGroup\n",
    "core = CMMCorePlus()\n",
    "#core_plus.setDeviceAdapterSearchPaths([mm_dir])\n",
    "core.loadSystemConfiguration(os.path.join(mm_dir, 'MMConfig_Edge42_SOLA_ASIStage_PixelSize.cfg'))"
   ],
   "id": "2dabe0ecc98f6a",
   "outputs": [],
   "execution_count": 2
  },
  {
   "metadata": {},
   "cell_type": "markdown",
   "source": "## pyqt and pyqtgraph <a id='pyqt_and_pyqtgraph'></a>",
   "id": "2f667b815e2f9d2d"
  },
  {
   "metadata": {
    "ExecuteTime": {
     "end_time": "2024-08-19T13:50:05.586926Z",
     "start_time": "2024-08-19T13:50:05.413147Z"
    }
   },
   "cell_type": "code",
   "source": [
    "from PyQt5.QtCore import QTimer\n",
    "from PyQt5.QtWidgets import QApplication, QLabel, QPushButton, QWidget, QGridLayout\n",
    "from PyQt5.QtGui import QFont\n",
    "import pyqtgraph as pg"
   ],
   "id": "32653abd1feb5b27",
   "outputs": [],
   "execution_count": 3
  },
  {
   "cell_type": "code",
   "id": "initial_id",
   "metadata": {
    "collapsed": true,
    "ExecuteTime": {
     "end_time": "2024-08-19T13:17:59.929975Z",
     "start_time": "2024-08-19T13:17:56.643992Z"
    }
   },
   "source": [
    "### simple plot\n",
    "\n",
    "# start application\n",
    "app = pg.mkQApp()\n",
    "\n",
    "# create window\n",
    "plot_widget = pg.PlotWidget()\n",
    "x = np.linspace(0, 20, 1000)\n",
    "y = np.sin(x)\n",
    "plot_widget.plot(x, y)\n",
    "plot_widget.show()\n",
    "\n",
    "# execute application\n",
    "app.exec()\n"
   ],
   "outputs": [
    {
     "data": {
      "text/plain": [
       "0"
      ]
     },
     "execution_count": 3,
     "metadata": {},
     "output_type": "execute_result"
    }
   ],
   "execution_count": 3
  },
  {
   "metadata": {},
   "cell_type": "code",
   "source": [
    "### moving sine curve ('live data acquisition')\n",
    "\n",
    "class window(QWidget):\n",
    "    def __init__(self):\n",
    "        super().__init__()\n",
    "        self.t = np.linspace(0, 2*np.pi, 1000)\n",
    "        self.num = 0.01\n",
    "        self.graph = pg.PlotWidget(self)\n",
    "        self.grid = QGridLayout()\n",
    "        self.timer = QTimer()\n",
    "        self.grid.addWidget(self.graph, 0, 0, 1, 1)\n",
    "        self.setLayout(self.grid)\n",
    "        self.timer.timeout.connect(self.update)\n",
    "        self.timer.start(1000) # in ms\n",
    "        self.graph.show()\n",
    "        self.setGeometry(0, 0, 500, 200)\n",
    "        self.show()\n",
    "\n",
    "    def update(self):\n",
    "        self.graph.plotItem.clear()\n",
    "        data = np.sin(self.t + self.num)\n",
    "        self.graph.plotItem.plot(self.t, data)\n",
    "        self.num = self.num + 0.5\n",
    "\n",
    "app = QApplication(['auto update'])\n",
    "\n",
    "win = window()\n",
    "\n",
    "app.exec_()"
   ],
   "id": "3bcc4238bbf0c26",
   "outputs": [],
   "execution_count": null
  },
  {
   "metadata": {
    "ExecuteTime": {
     "start_time": "2024-08-19T13:50:05.588912Z"
    }
   },
   "cell_type": "code",
   "source": [
    "### display live microscopy images\n",
    "\n",
    "class window(QWidget):\n",
    "    def __init__(self):\n",
    "        super().__init__()\n",
    "        self.graph = pg.PlotWidget(self)\n",
    "        self.grid = QGridLayout()\n",
    "        self.timer = QTimer()\n",
    "        self.grid.addWidget(self.graph)\n",
    "        self.setLayout(self.grid)\n",
    "        self.timer.timeout.connect(self.update)\n",
    "        self.timer.start(1000) # in ms\n",
    "        self.graph.show()\n",
    "        self.show()\n",
    "    \n",
    "    def update(self):\n",
    "        core.setConfig('LED_light', 'on')\n",
    "        self.graph.plotItem.clear()\n",
    "        core.snapImage()\n",
    "        im = core.getImage()\n",
    "        imv = pg.ImageView()\n",
    "        imv.setImage(im)\n",
    "        imv.show()\n",
    "        #imv.close()\n",
    "        core.setConfig('LED_light', 'off')\n",
    "\n",
    "app = QApplication(['auto update'])\n",
    "\n",
    "win = window()\n",
    "\n",
    "app.exec_()"
   ],
   "id": "9dc5336c27d4a786",
   "outputs": [],
   "execution_count": null
  },
  {
   "metadata": {},
   "cell_type": "markdown",
   "source": "## napari <a id='napari'></a>",
   "id": "322d41c025dc4888"
  },
  {
   "metadata": {},
   "cell_type": "code",
   "outputs": [],
   "execution_count": null,
   "source": "",
   "id": "7ab59f721c814114"
  },
  {
   "metadata": {},
   "cell_type": "code",
   "outputs": [],
   "execution_count": null,
   "source": "",
   "id": "b74a40e942c4243f"
  },
  {
   "metadata": {},
   "cell_type": "code",
   "outputs": [],
   "execution_count": null,
   "source": "",
   "id": "1d6de67693d61c79"
  }
 ],
 "metadata": {
  "kernelspec": {
   "display_name": "Python 3",
   "language": "python",
   "name": "python3"
  },
  "language_info": {
   "codemirror_mode": {
    "name": "ipython",
    "version": 2
   },
   "file_extension": ".py",
   "mimetype": "text/x-python",
   "name": "python",
   "nbconvert_exporter": "python",
   "pygments_lexer": "ipython2",
   "version": "2.7.6"
  }
 },
 "nbformat": 4,
 "nbformat_minor": 5
}
